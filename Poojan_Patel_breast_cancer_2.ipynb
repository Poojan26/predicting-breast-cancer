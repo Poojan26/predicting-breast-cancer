{
  "nbformat": 4,
  "nbformat_minor": 0,
  "metadata": {
    "colab": {
      "name": "Poojan_Patel_breast_cancer-2.ipynb",
      "provenance": []
    },
    "kernelspec": {
      "name": "python3",
      "display_name": "Python 3"
    },
    "language_info": {
      "name": "python"
    }
  },
  "cells": [
    {
      "cell_type": "code",
      "metadata": {
        "id": "91cD4JGNjBEO"
      },
      "source": [
        "# importing the required libraries\n",
        "import numpy as np\n",
        "import pandas as pd\n",
        "from matplotlib import pyplot as plt\n",
        "# Sklearn related imports\n",
        "from sklearn import datasets\n",
        "from sklearn import metrics\n",
        "from sklearn.neighbors import KNeighborsClassifier\n",
        "from sklearn.model_selection import train_test_split\n",
        "from sklearn.metrics import classification_report, confusion_matrix\n",
        "from sklearn.preprocessing import LabelEncoder\n",
        "\n",
        "# Reading data from dataset file \n",
        "df  = pd.read_csv('data.csv')\n",
        "\n",
        "# Removing the elements which are not required\n",
        "df['diagnosis'].value_counts()\n",
        "df.drop(['Unnamed: 32'],axis = 1,inplace=True)\n",
        "label = LabelEncoder()\n",
        "df['diagnosis'] = label.fit_transform(df['diagnosis'])\n",
        "x = df.drop(['diagnosis'],axis = 1)\n",
        "y = df['diagnosis']"
      ],
      "execution_count": 21,
      "outputs": []
    },
    {
      "cell_type": "code",
      "metadata": {
        "colab": {
          "base_uri": "https://localhost:8080/"
        },
        "id": "hQJ4loYCjWjy",
        "outputId": "7507c75c-e618-46c3-d69d-5d841016c05f"
      },
      "source": [
        "#split data into train and test\n",
        "X_train, x_test, y_train, y_test = train_test_split(x,y, test_size=0.2, random_state=0)\n",
        "#instantiate KNN classifier n_neighbours=3\n",
        "#KNN only has 1 parameter to adjust which is n_neighbours\n",
        "clf = KNeighborsClassifier(n_neighbors=5)\n",
        "#fit classifier\n",
        "clf.fit(X_train, y_train)\n",
        "\n",
        "#Making prediction \n",
        "prediction = clf.predict(x_test)\n",
        "prediction = clf.predict(x_test)\n",
        "print(\"Model Prediction:\",prediction)\n",
        "\n",
        "#Calculating Accuracy\n",
        "accuracy = clf.score(x_test,y_test) *100\n",
        "print(\"Accuracy for n=5(%):\",accuracy)\n"
      ],
      "execution_count": 22,
      "outputs": [
        {
          "output_type": "stream",
          "text": [
            "Model Prediction: [0 0 0 0 1 0 0 0 0 0 0 0 0 0 0 0 0 0 0 1 1 0 0 0 1 0 0 1 0 0 0 1 0 1 0 1 0\n",
            " 1 0 0 0 0 1 0 0 0 0 0 0 1 1 0 1 1 0 0 0 0 0 1 0 0 0 0 0 0 1 0 0 0 0 1 0 0\n",
            " 1 0 0 0 0 0 0 0 0 0 0 1 0 1 1 0 0 1 0 0 0 0 0 0 0 0 0 0 0 0 1 0 0 0 1 0 0\n",
            " 1 0 0]\n",
            "Accuracy for n=5(%): 73.68421052631578\n"
          ],
          "name": "stdout"
        }
      ]
    }
  ]
}