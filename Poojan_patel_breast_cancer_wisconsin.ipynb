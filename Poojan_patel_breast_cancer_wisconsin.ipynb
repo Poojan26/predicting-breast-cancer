{
  "nbformat": 4,
  "nbformat_minor": 0,
  "metadata": {
    "colab": {
      "name": "Poojan_patel_breast_cancer_wisconsin.ipynb",
      "provenance": []
    },
    "kernelspec": {
      "name": "python3",
      "display_name": "Python 3"
    },
    "language_info": {
      "name": "python"
    }
  },
  "cells": [
    {
      "cell_type": "code",
      "metadata": {
        "id": "s9l5yzPGBSBy"
      },
      "source": [
        "# Importing required packages\n",
        "import pandas as pd\n",
        "import numpy as np\n",
        "from sklearn.model_selection import train_test_split\n",
        "from sklearn.linear_model import LogisticRegression\n",
        "from sklearn import metrics\n",
        "from sklearn.metrics import accuracy_score\n",
        "from sklearn.preprocessing import StandardScaler, LabelEncoder\n",
        "\n",
        "# Reading data from dataset file \n",
        "df  = pd.read_csv('data.csv')\n",
        "\n",
        "# Removing the elements which are not required\n",
        "df['diagnosis'].value_counts()\n",
        "df.drop(['Unnamed: 32'],axis = 1,inplace=True)\n",
        "label = LabelEncoder()\n",
        "df['diagnosis'] = label.fit_transform(df['diagnosis'])\n",
        "x = df.drop(['diagnosis'],axis = 1)\n",
        "y = df['diagnosis']\n",
        "\n"
      ],
      "execution_count": 7,
      "outputs": []
    },
    {
      "cell_type": "code",
      "metadata": {
        "id": "CvIX65K2YSZ-"
      },
      "source": [
        "# Training and testing with train size 80% and test size 20% \n",
        "x_train, x_test, y_train, y_test = train_test_split(x,y, test_size=0.2, random_state=0)\n",
        "sc = StandardScaler()\n",
        "x_train = sc.fit_transform(x_train)\n",
        "x_test = sc.transform(x_test)"
      ],
      "execution_count": 8,
      "outputs": []
    },
    {
      "cell_type": "code",
      "metadata": {
        "colab": {
          "base_uri": "https://localhost:8080/"
        },
        "id": "Nlvsg94eYbTy",
        "outputId": "5cd62fec-daac-4cc9-f03c-e211d257ed94"
      },
      "source": [
        "# Creating logistic regression model\n",
        "\n",
        "model = LogisticRegression(C=1.0, class_weight=None, dual=False, fit_intercept=True,intercept_scaling=1, l1_ratio=None, \n",
        "                           max_iter=1500,multi_class='auto', n_jobs=None, penalty='l2',random_state=123, solver='lbfgs', \n",
        "                           tol=0.0001, verbose=0,warm_start=False)\n",
        "\n",
        "# Fitting training data in the model\n",
        "model.fit(x_train,y_train)\n",
        "\n",
        "# Making prediction and calculating accuracy\n",
        "prediction = model.predict(x_test)\n",
        "accuracy = accuracy_score(y_test,prediction)\n",
        "\n",
        "print(\"Model Prediction:\",prediction,\"\\n\")\n",
        "print(\"Model Accuracy(%):\",accuracy*100)"
      ],
      "execution_count": 9,
      "outputs": [
        {
          "output_type": "stream",
          "text": [
            "Model Prediction: [1 0 0 0 0 0 0 0 0 0 0 0 0 1 0 1 0 1 1 1 1 1 0 0 1 0 0 1 0 1 0 1 0 1 0 1 0\n",
            " 1 0 1 1 0 1 0 0 1 0 0 0 1 1 1 1 0 0 0 0 0 0 1 1 1 0 0 1 0 1 1 1 0 0 1 0 1\n",
            " 1 0 0 0 0 0 1 1 1 0 1 0 0 0 1 1 0 1 1 1 0 0 1 0 0 0 0 0 0 0 1 0 1 0 0 0 0\n",
            " 1 1 0] \n",
            "\n",
            "Model Accuracy(%): 96.49122807017544\n"
          ],
          "name": "stdout"
        }
      ]
    }
  ]
}